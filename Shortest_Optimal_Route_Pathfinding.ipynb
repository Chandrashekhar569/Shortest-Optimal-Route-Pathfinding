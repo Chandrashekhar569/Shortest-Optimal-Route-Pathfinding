{
  "nbformat": 4,
  "nbformat_minor": 0,
  "metadata": {
    "colab": {
      "provenance": [],
      "authorship_tag": "ABX9TyNgEnGBMH12Fa1I0AlcRazN",
      "include_colab_link": true
    },
    "kernelspec": {
      "name": "python3",
      "display_name": "Python 3"
    },
    "language_info": {
      "name": "python"
    }
  },
  "cells": [
    {
      "cell_type": "markdown",
      "metadata": {
        "id": "view-in-github",
        "colab_type": "text"
      },
      "source": [
        "<a href=\"https://colab.research.google.com/github/Chandrashekhar569/Shortest-Optimal-Route-Pathfinding/blob/main/Shortest_Optimal_Route_Pathfinding.ipynb\" target=\"_parent\"><img src=\"https://colab.research.google.com/assets/colab-badge.svg\" alt=\"Open In Colab\"/></a>"
      ]
    },
    {
      "cell_type": "code",
      "execution_count": 1,
      "metadata": {
        "colab": {
          "base_uri": "https://localhost:8080/"
        },
        "id": "eEer8ym7UAJv",
        "outputId": "0ade4acc-6811-427d-a3fb-134b008f2168"
      },
      "outputs": [
        {
          "output_type": "stream",
          "name": "stdout",
          "text": [
            "Shortest path: ['A', 'C', 'B', 'D']\n"
          ]
        }
      ],
      "source": [
        "import heapq\n",
        "\n",
        "def dijkstra(graph, start):\n",
        "    distances = {node: float('inf') for node in graph}\n",
        "    distances[start] = 0\n",
        "    queue = [(0, start)]\n",
        "    \n",
        "    while queue:\n",
        "        current_distance, current_node = heapq.heappop(queue)\n",
        "        \n",
        "        # Skip if the current distance is greater than the known distance\n",
        "        if current_distance > distances[current_node]:\n",
        "            continue\n",
        "        \n",
        "        for neighbor, weight in graph[current_node].items():\n",
        "            distance = current_distance + weight\n",
        "            if distance < distances[neighbor]:\n",
        "                distances[neighbor] = distance\n",
        "                heapq.heappush(queue, (distance, neighbor))\n",
        "    \n",
        "    return distances\n",
        "\n",
        "def shortest_path(graph, start, end):\n",
        "    distances = dijkstra(graph, start)\n",
        "    path = []\n",
        "    current_node = end\n",
        "    \n",
        "    while current_node != start:\n",
        "        path.append(current_node)\n",
        "        for neighbor, weight in graph[current_node].items():\n",
        "            if distances[current_node] == distances[neighbor] + weight:\n",
        "                current_node = neighbor\n",
        "                break\n",
        "    \n",
        "    path.append(start)\n",
        "    path.reverse()\n",
        "    \n",
        "    return path\n",
        "\n",
        "# Example usage\n",
        "graph = {\n",
        "    'A': {'B': 5, 'C': 2},\n",
        "    'B': {'A': 5, 'C': 1, 'D': 3},\n",
        "    'C': {'A': 2, 'B': 1, 'D': 6},\n",
        "    'D': {'B': 3, 'C': 6}\n",
        "}\n",
        "\n",
        "start = 'A'\n",
        "end = 'D'\n",
        "\n",
        "shortest_path = shortest_path(graph, start, end)\n",
        "print(\"Shortest path:\", shortest_path)\n"
      ]
    }
  ]
}